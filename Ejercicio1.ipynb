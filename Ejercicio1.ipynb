{
  "nbformat": 4,
  "nbformat_minor": 0,
  "metadata": {
    "colab": {
      "name": "Ejercicio1.ipynb",
      "provenance": [],
      "include_colab_link": true
    },
    "kernelspec": {
      "name": "python3",
      "display_name": "Python 3"
    },
    "language_info": {
      "name": "python"
    }
  },
  "cells": [
    {
      "cell_type": "markdown",
      "metadata": {
        "id": "view-in-github",
        "colab_type": "text"
      },
      "source": [
        "<a href=\"https://colab.research.google.com/github/adanfernandez/Angular-training/blob/master/Ejercicio1.ipynb\" target=\"_parent\"><img src=\"https://colab.research.google.com/assets/colab-badge.svg\" alt=\"Open In Colab\"/></a>"
      ]
    },
    {
      "cell_type": "markdown",
      "metadata": {
        "id": "UxXAn3F4IDip"
      },
      "source": [
        "# Primer ejercicio\n",
        "## Preparación del entorno\n",
        "Preparamos el entorno instalando las dependencias necesarias.\n"
      ]
    },
    {
      "cell_type": "code",
      "metadata": {
        "colab": {
          "base_uri": "https://localhost:8080/"
        },
        "id": "QzBdhjgoISkT",
        "outputId": "1b9dd5a3-06a2-4de7-bd05-9448c3ed38fb"
      },
      "source": [
        "!pip install spacy==3.0.5\n",
        "!pip install ndjson"
      ],
      "execution_count": null,
      "outputs": [
        {
          "output_type": "stream",
          "text": [
            "Collecting spacy==3.0.5\n",
            "\u001b[?25l  Downloading https://files.pythonhosted.org/packages/3a/70/a0b8bd0cb54d8739ba4d6fb3458785c3b9b812b7fbe93b0f10beb1a53ada/spacy-3.0.5-cp37-cp37m-manylinux2014_x86_64.whl (12.8MB)\n",
            "\u001b[K     |████████████████████████████████| 12.8MB 16.2MB/s \n",
            "\u001b[?25hRequirement already satisfied: blis<0.8.0,>=0.4.0 in /usr/local/lib/python3.7/dist-packages (from spacy==3.0.5) (0.4.1)\n",
            "Requirement already satisfied: packaging>=20.0 in /usr/local/lib/python3.7/dist-packages (from spacy==3.0.5) (20.9)\n",
            "Collecting thinc<8.1.0,>=8.0.2\n",
            "\u001b[?25l  Downloading https://files.pythonhosted.org/packages/61/87/decceba68a0c6ca356ddcb6aea8b2500e71d9bc187f148aae19b747b7d3c/thinc-8.0.3-cp37-cp37m-manylinux2014_x86_64.whl (1.1MB)\n",
            "\u001b[K     |████████████████████████████████| 1.1MB 35.6MB/s \n",
            "\u001b[?25hRequirement already satisfied: preshed<3.1.0,>=3.0.2 in /usr/local/lib/python3.7/dist-packages (from spacy==3.0.5) (3.0.5)\n",
            "Requirement already satisfied: setuptools in /usr/local/lib/python3.7/dist-packages (from spacy==3.0.5) (56.1.0)\n",
            "Collecting typer<0.4.0,>=0.3.0\n",
            "  Downloading https://files.pythonhosted.org/packages/90/34/d138832f6945432c638f32137e6c79a3b682f06a63c488dcfaca6b166c64/typer-0.3.2-py3-none-any.whl\n",
            "Requirement already satisfied: jinja2 in /usr/local/lib/python3.7/dist-packages (from spacy==3.0.5) (2.11.3)\n",
            "Collecting catalogue<2.1.0,>=2.0.1\n",
            "  Downloading https://files.pythonhosted.org/packages/9c/10/dbc1203a4b1367c7b02fddf08cb2981d9aa3e688d398f587cea0ab9e3bec/catalogue-2.0.4-py3-none-any.whl\n",
            "Requirement already satisfied: tqdm<5.0.0,>=4.38.0 in /usr/local/lib/python3.7/dist-packages (from spacy==3.0.5) (4.41.1)\n",
            "Collecting pathy>=0.3.5\n",
            "\u001b[?25l  Downloading https://files.pythonhosted.org/packages/13/87/5991d87be8ed60beb172b4062dbafef18b32fa559635a8e2b633c2974f85/pathy-0.5.2-py3-none-any.whl (42kB)\n",
            "\u001b[K     |████████████████████████████████| 51kB 8.0MB/s \n",
            "\u001b[?25hRequirement already satisfied: requests<3.0.0,>=2.13.0 in /usr/local/lib/python3.7/dist-packages (from spacy==3.0.5) (2.23.0)\n",
            "Collecting pydantic<1.8.0,>=1.7.1\n",
            "\u001b[?25l  Downloading https://files.pythonhosted.org/packages/ca/fa/d43f31874e1f2a9633e4c025be310f2ce7a8350017579e9e837a62630a7e/pydantic-1.7.4-cp37-cp37m-manylinux2014_x86_64.whl (9.1MB)\n",
            "\u001b[K     |████████████████████████████████| 9.1MB 47.5MB/s \n",
            "\u001b[?25hRequirement already satisfied: cymem<2.1.0,>=2.0.2 in /usr/local/lib/python3.7/dist-packages (from spacy==3.0.5) (2.0.5)\n",
            "Requirement already satisfied: wasabi<1.1.0,>=0.8.1 in /usr/local/lib/python3.7/dist-packages (from spacy==3.0.5) (0.8.2)\n",
            "Requirement already satisfied: murmurhash<1.1.0,>=0.28.0 in /usr/local/lib/python3.7/dist-packages (from spacy==3.0.5) (1.0.5)\n",
            "Requirement already satisfied: importlib-metadata>=0.20; python_version < \"3.8\" in /usr/local/lib/python3.7/dist-packages (from spacy==3.0.5) (4.0.1)\n",
            "Requirement already satisfied: typing-extensions<4.0.0.0,>=3.7.4; python_version < \"3.8\" in /usr/local/lib/python3.7/dist-packages (from spacy==3.0.5) (3.7.4.3)\n",
            "Collecting srsly<3.0.0,>=2.4.0\n",
            "\u001b[?25l  Downloading https://files.pythonhosted.org/packages/c3/84/dfdfc9f6f04f6b88207d96d9520b911e5fec0c67ff47a0dea31ab5429a1e/srsly-2.4.1-cp37-cp37m-manylinux2014_x86_64.whl (456kB)\n",
            "\u001b[K     |████████████████████████████████| 460kB 57.1MB/s \n",
            "\u001b[?25hRequirement already satisfied: numpy>=1.15.0 in /usr/local/lib/python3.7/dist-packages (from spacy==3.0.5) (1.19.5)\n",
            "Collecting spacy-legacy<3.1.0,>=3.0.0\n",
            "  Downloading https://files.pythonhosted.org/packages/8d/67/d4002a18e26bf29b17ab563ddb55232b445ab6a02f97bf17d1345ff34d3f/spacy_legacy-3.0.5-py2.py3-none-any.whl\n",
            "Requirement already satisfied: pyparsing>=2.0.2 in /usr/local/lib/python3.7/dist-packages (from packaging>=20.0->spacy==3.0.5) (2.4.7)\n",
            "Requirement already satisfied: click<7.2.0,>=7.1.1 in /usr/local/lib/python3.7/dist-packages (from typer<0.4.0,>=0.3.0->spacy==3.0.5) (7.1.2)\n",
            "Requirement already satisfied: MarkupSafe>=0.23 in /usr/local/lib/python3.7/dist-packages (from jinja2->spacy==3.0.5) (2.0.1)\n",
            "Requirement already satisfied: zipp>=0.5; python_version < \"3.8\" in /usr/local/lib/python3.7/dist-packages (from catalogue<2.1.0,>=2.0.1->spacy==3.0.5) (3.4.1)\n",
            "Collecting smart-open<4.0.0,>=2.2.0\n",
            "\u001b[?25l  Downloading https://files.pythonhosted.org/packages/11/9a/ba2d5f67f25e8d5bbf2fcec7a99b1e38428e83cb715f64dd179ca43a11bb/smart_open-3.0.0.tar.gz (113kB)\n",
            "\u001b[K     |████████████████████████████████| 122kB 49.4MB/s \n",
            "\u001b[?25hRequirement already satisfied: urllib3!=1.25.0,!=1.25.1,<1.26,>=1.21.1 in /usr/local/lib/python3.7/dist-packages (from requests<3.0.0,>=2.13.0->spacy==3.0.5) (1.24.3)\n",
            "Requirement already satisfied: chardet<4,>=3.0.2 in /usr/local/lib/python3.7/dist-packages (from requests<3.0.0,>=2.13.0->spacy==3.0.5) (3.0.4)\n",
            "Requirement already satisfied: idna<3,>=2.5 in /usr/local/lib/python3.7/dist-packages (from requests<3.0.0,>=2.13.0->spacy==3.0.5) (2.10)\n",
            "Requirement already satisfied: certifi>=2017.4.17 in /usr/local/lib/python3.7/dist-packages (from requests<3.0.0,>=2.13.0->spacy==3.0.5) (2020.12.5)\n",
            "Building wheels for collected packages: smart-open\n",
            "  Building wheel for smart-open (setup.py) ... \u001b[?25l\u001b[?25hdone\n",
            "  Created wheel for smart-open: filename=smart_open-3.0.0-cp37-none-any.whl size=107098 sha256=d44338cd40d6aad9f5000a19c40c9f99c1e7d02ec5df25ec6fbc62be2d7da6a8\n",
            "  Stored in directory: /root/.cache/pip/wheels/18/88/7c/f06dabd5e9cabe02d2269167bcacbbf9b47d0c0ff7d6ebcb78\n",
            "Successfully built smart-open\n",
            "Installing collected packages: catalogue, srsly, pydantic, thinc, typer, smart-open, pathy, spacy-legacy, spacy\n",
            "  Found existing installation: catalogue 1.0.0\n",
            "    Uninstalling catalogue-1.0.0:\n",
            "      Successfully uninstalled catalogue-1.0.0\n",
            "  Found existing installation: srsly 1.0.5\n",
            "    Uninstalling srsly-1.0.5:\n",
            "      Successfully uninstalled srsly-1.0.5\n",
            "  Found existing installation: thinc 7.4.0\n",
            "    Uninstalling thinc-7.4.0:\n",
            "      Successfully uninstalled thinc-7.4.0\n",
            "  Found existing installation: smart-open 5.0.0\n",
            "    Uninstalling smart-open-5.0.0:\n",
            "      Successfully uninstalled smart-open-5.0.0\n",
            "  Found existing installation: spacy 2.2.4\n",
            "    Uninstalling spacy-2.2.4:\n",
            "      Successfully uninstalled spacy-2.2.4\n",
            "Successfully installed catalogue-2.0.4 pathy-0.5.2 pydantic-1.7.4 smart-open-3.0.0 spacy-3.0.5 spacy-legacy-3.0.5 srsly-2.4.1 thinc-8.0.3 typer-0.3.2\n",
            "Collecting ndjson\n",
            "  Downloading https://files.pythonhosted.org/packages/70/c9/04ba0056011ba96a58163ebfd666d8385300bd12da1afe661a5a147758d7/ndjson-0.3.1-py2.py3-none-any.whl\n",
            "Installing collected packages: ndjson\n",
            "Successfully installed ndjson-0.3.1\n"
          ],
          "name": "stdout"
        }
      ]
    },
    {
      "cell_type": "markdown",
      "metadata": {
        "id": "zfQ7TbhOIdeJ"
      },
      "source": [
        "Instalamos el modelo que se usará en spaCy. Se instalará el modelo grande."
      ]
    },
    {
      "cell_type": "code",
      "metadata": {
        "colab": {
          "base_uri": "https://localhost:8080/"
        },
        "id": "P-lR50EXIfjf",
        "outputId": "0de8d5e9-67e2-4e63-8a87-77c5e3eadffd"
      },
      "source": [
        "!python -m spacy download es_core_news_lg"
      ],
      "execution_count": null,
      "outputs": [
        {
          "output_type": "stream",
          "text": [
            "2021-05-25 22:04:57.848176: I tensorflow/stream_executor/platform/default/dso_loader.cc:53] Successfully opened dynamic library libcudart.so.11.0\n",
            "Collecting es-core-news-lg==3.0.0\n",
            "\u001b[?25l  Downloading https://github.com/explosion/spacy-models/releases/download/es_core_news_lg-3.0.0/es_core_news_lg-3.0.0-py3-none-any.whl (569.7MB)\n",
            "\u001b[K     |████████████████████████████████| 569.7MB 26kB/s \n",
            "\u001b[?25hRequirement already satisfied: spacy<3.1.0,>=3.0.0 in /usr/local/lib/python3.7/dist-packages (from es-core-news-lg==3.0.0) (3.0.5)\n",
            "Requirement already satisfied: blis<0.8.0,>=0.4.0 in /usr/local/lib/python3.7/dist-packages (from spacy<3.1.0,>=3.0.0->es-core-news-lg==3.0.0) (0.4.1)\n",
            "Requirement already satisfied: murmurhash<1.1.0,>=0.28.0 in /usr/local/lib/python3.7/dist-packages (from spacy<3.1.0,>=3.0.0->es-core-news-lg==3.0.0) (1.0.5)\n",
            "Requirement already satisfied: typer<0.4.0,>=0.3.0 in /usr/local/lib/python3.7/dist-packages (from spacy<3.1.0,>=3.0.0->es-core-news-lg==3.0.0) (0.3.2)\n",
            "Requirement already satisfied: pydantic<1.8.0,>=1.7.1 in /usr/local/lib/python3.7/dist-packages (from spacy<3.1.0,>=3.0.0->es-core-news-lg==3.0.0) (1.7.4)\n",
            "Requirement already satisfied: pathy>=0.3.5 in /usr/local/lib/python3.7/dist-packages (from spacy<3.1.0,>=3.0.0->es-core-news-lg==3.0.0) (0.5.2)\n",
            "Requirement already satisfied: jinja2 in /usr/local/lib/python3.7/dist-packages (from spacy<3.1.0,>=3.0.0->es-core-news-lg==3.0.0) (2.11.3)\n",
            "Requirement already satisfied: spacy-legacy<3.1.0,>=3.0.0 in /usr/local/lib/python3.7/dist-packages (from spacy<3.1.0,>=3.0.0->es-core-news-lg==3.0.0) (3.0.5)\n",
            "Requirement already satisfied: typing-extensions<4.0.0.0,>=3.7.4; python_version < \"3.8\" in /usr/local/lib/python3.7/dist-packages (from spacy<3.1.0,>=3.0.0->es-core-news-lg==3.0.0) (3.7.4.3)\n",
            "Requirement already satisfied: wasabi<1.1.0,>=0.8.1 in /usr/local/lib/python3.7/dist-packages (from spacy<3.1.0,>=3.0.0->es-core-news-lg==3.0.0) (0.8.2)\n",
            "Requirement already satisfied: tqdm<5.0.0,>=4.38.0 in /usr/local/lib/python3.7/dist-packages (from spacy<3.1.0,>=3.0.0->es-core-news-lg==3.0.0) (4.41.1)\n",
            "Requirement already satisfied: srsly<3.0.0,>=2.4.0 in /usr/local/lib/python3.7/dist-packages (from spacy<3.1.0,>=3.0.0->es-core-news-lg==3.0.0) (2.4.1)\n",
            "Requirement already satisfied: numpy>=1.15.0 in /usr/local/lib/python3.7/dist-packages (from spacy<3.1.0,>=3.0.0->es-core-news-lg==3.0.0) (1.19.5)\n",
            "Requirement already satisfied: catalogue<2.1.0,>=2.0.1 in /usr/local/lib/python3.7/dist-packages (from spacy<3.1.0,>=3.0.0->es-core-news-lg==3.0.0) (2.0.4)\n",
            "Requirement already satisfied: preshed<3.1.0,>=3.0.2 in /usr/local/lib/python3.7/dist-packages (from spacy<3.1.0,>=3.0.0->es-core-news-lg==3.0.0) (3.0.5)\n",
            "Requirement already satisfied: requests<3.0.0,>=2.13.0 in /usr/local/lib/python3.7/dist-packages (from spacy<3.1.0,>=3.0.0->es-core-news-lg==3.0.0) (2.23.0)\n",
            "Requirement already satisfied: thinc<8.1.0,>=8.0.2 in /usr/local/lib/python3.7/dist-packages (from spacy<3.1.0,>=3.0.0->es-core-news-lg==3.0.0) (8.0.3)\n",
            "Requirement already satisfied: importlib-metadata>=0.20; python_version < \"3.8\" in /usr/local/lib/python3.7/dist-packages (from spacy<3.1.0,>=3.0.0->es-core-news-lg==3.0.0) (4.0.1)\n",
            "Requirement already satisfied: cymem<2.1.0,>=2.0.2 in /usr/local/lib/python3.7/dist-packages (from spacy<3.1.0,>=3.0.0->es-core-news-lg==3.0.0) (2.0.5)\n",
            "Requirement already satisfied: packaging>=20.0 in /usr/local/lib/python3.7/dist-packages (from spacy<3.1.0,>=3.0.0->es-core-news-lg==3.0.0) (20.9)\n",
            "Requirement already satisfied: setuptools in /usr/local/lib/python3.7/dist-packages (from spacy<3.1.0,>=3.0.0->es-core-news-lg==3.0.0) (56.1.0)\n",
            "Requirement already satisfied: click<7.2.0,>=7.1.1 in /usr/local/lib/python3.7/dist-packages (from typer<0.4.0,>=0.3.0->spacy<3.1.0,>=3.0.0->es-core-news-lg==3.0.0) (7.1.2)\n",
            "Requirement already satisfied: smart-open<4.0.0,>=2.2.0 in /usr/local/lib/python3.7/dist-packages (from pathy>=0.3.5->spacy<3.1.0,>=3.0.0->es-core-news-lg==3.0.0) (3.0.0)\n",
            "Requirement already satisfied: MarkupSafe>=0.23 in /usr/local/lib/python3.7/dist-packages (from jinja2->spacy<3.1.0,>=3.0.0->es-core-news-lg==3.0.0) (2.0.1)\n",
            "Requirement already satisfied: zipp>=0.5; python_version < \"3.8\" in /usr/local/lib/python3.7/dist-packages (from catalogue<2.1.0,>=2.0.1->spacy<3.1.0,>=3.0.0->es-core-news-lg==3.0.0) (3.4.1)\n",
            "Requirement already satisfied: certifi>=2017.4.17 in /usr/local/lib/python3.7/dist-packages (from requests<3.0.0,>=2.13.0->spacy<3.1.0,>=3.0.0->es-core-news-lg==3.0.0) (2020.12.5)\n",
            "Requirement already satisfied: idna<3,>=2.5 in /usr/local/lib/python3.7/dist-packages (from requests<3.0.0,>=2.13.0->spacy<3.1.0,>=3.0.0->es-core-news-lg==3.0.0) (2.10)\n",
            "Requirement already satisfied: urllib3!=1.25.0,!=1.25.1,<1.26,>=1.21.1 in /usr/local/lib/python3.7/dist-packages (from requests<3.0.0,>=2.13.0->spacy<3.1.0,>=3.0.0->es-core-news-lg==3.0.0) (1.24.3)\n",
            "Requirement already satisfied: chardet<4,>=3.0.2 in /usr/local/lib/python3.7/dist-packages (from requests<3.0.0,>=2.13.0->spacy<3.1.0,>=3.0.0->es-core-news-lg==3.0.0) (3.0.4)\n",
            "Requirement already satisfied: pyparsing>=2.0.2 in /usr/local/lib/python3.7/dist-packages (from packaging>=20.0->spacy<3.1.0,>=3.0.0->es-core-news-lg==3.0.0) (2.4.7)\n",
            "Installing collected packages: es-core-news-lg\n",
            "Successfully installed es-core-news-lg-3.0.0\n",
            "\u001b[38;5;2m✔ Download and installation successful\u001b[0m\n",
            "You can now load the package via spacy.load('es_core_news_lg')\n"
          ],
          "name": "stdout"
        }
      ]
    },
    {
      "cell_type": "markdown",
      "metadata": {
        "id": "FO-s-YeaIlZm"
      },
      "source": [
        "## Descarga de los datos de la máquina virtual\n",
        "Importamos el archivo de datos desde el enlace Google Drive otorgado por el profesor de la asignatura. Para el primer ejercicio, que es el primero en el que nos encontramos, descargaremos el archivo con los datos procedentes de la API de twitter. El objetivo será limpiarlos.\n",
        "La descarga de los tweets tardará más de dos minutos en producirse, realizándose en un directorio específico para el ejercicio 1."
      ]
    },
    {
      "cell_type": "code",
      "metadata": {
        "colab": {
          "base_uri": "https://localhost:8080/"
        },
        "id": "-Ww758RVIrwK",
        "outputId": "e8ff472d-067f-4432-b7ca-11ef6e52f061"
      },
      "source": [
        "!mkdir ejercicio1\n",
        "%cd ejercicio1\n",
        "\n",
        "!gdown --id 1yBH-MYb3FapTWQ9ps3dkSjhaGOZKfNMK\n",
        "!unzip tweets.zip"
      ],
      "execution_count": null,
      "outputs": [
        {
          "output_type": "stream",
          "text": [
            "\n",
            "  inflating: 20130204/10.json        \n",
            "  inflating: 20130204/11.json        \n",
            "  inflating: 20130204/12.json        \n",
            "  inflating: 20130204/13.json        \n",
            "  inflating: 20130204/14.json        \n",
            "  inflating: 20130204/15.json        \n",
            "  inflating: 20130204/16.json        \n",
            "  inflating: 20130204/17.json        \n",
            "  inflating: 20130204/18.json        \n",
            "  inflating: 20130204/19.json        \n",
            "  inflating: 20130204/20.json        \n",
            "  inflating: 20130204/21.json        \n",
            "  inflating: 20130204/22.json        \n",
            "  inflating: 20130204/23.json        \n",
            "   creating: 20130205/\n",
            "  inflating: 20130205/00.json        \n",
            "  inflating: 20130205/01.json        \n",
            "  inflating: 20130205/02.json        \n",
            "  inflating: 20130205/03.json        \n",
            "  inflating: 20130205/04.json        \n",
            "  inflating: 20130205/05.json        \n",
            "  inflating: 20130205/06.json        \n",
            "  inflating: 20130205/07.json        \n",
            "  inflating: 20130205/08.json        \n",
            "  inflating: 20130205/09.json        \n",
            "  inflating: 20130205/10.json        \n",
            "  inflating: 20130205/11.json        \n",
            "  inflating: 20130205/12.json        \n",
            "  inflating: 20130205/13.json        \n",
            "  inflating: 20130205/14.json        \n",
            "  inflating: 20130205/15.json        \n",
            "  inflating: 20130205/16.json        \n",
            "  inflating: 20130205/17.json        \n",
            "  inflating: 20130205/18.json        \n",
            "  inflating: 20130205/19.json        \n",
            "  inflating: 20130205/20.json        \n",
            "  inflating: 20130205/21.json        \n",
            "  inflating: 20130205/22.json        \n",
            "  inflating: 20130205/23.json        \n",
            "   creating: 20130206/\n",
            "  inflating: 20130206/00.json        \n",
            "  inflating: 20130206/01.json        \n",
            "  inflating: 20130206/02.json        \n",
            "  inflating: 20130206/03.json        \n",
            "  inflating: 20130206/04.json        \n",
            "  inflating: 20130206/05.json        \n",
            "  inflating: 20130206/06.json        \n",
            "  inflating: 20130206/07.json        \n",
            "  inflating: 20130206/08.json        \n",
            "  inflating: 20130206/09.json        \n",
            "  inflating: 20130206/10.json        \n",
            "  inflating: 20130206/11.json        \n",
            "  inflating: 20130206/12.json        \n",
            "  inflating: 20130206/13.json        \n",
            "  inflating: 20130206/14.json        \n",
            "  inflating: 20130206/15.json        \n",
            "  inflating: 20130206/16.json        \n",
            "  inflating: 20130206/17.json        \n",
            "  inflating: 20130206/18.json        \n",
            "  inflating: 20130206/19.json        \n",
            "  inflating: 20130206/20.json        \n",
            "  inflating: 20130206/21.json        \n",
            "  inflating: 20130206/22.json        \n",
            "  inflating: 20130206/23.json        \n",
            "   creating: 20130207/\n",
            "  inflating: 20130207/00.json        \n",
            "  inflating: 20130207/01.json        \n",
            "  inflating: 20130207/02.json        \n",
            "  inflating: 20130207/03.json        \n",
            "  inflating: 20130207/04.json        \n",
            "  inflating: 20130207/05.json        \n",
            "  inflating: 20130207/06.json        \n",
            "  inflating: 20130207/07.json        \n",
            "  inflating: 20130207/08.json        \n",
            "  inflating: 20130207/09.json        \n",
            "  inflating: 20130207/10.json        \n",
            "  inflating: 20130207/11.json        \n",
            "  inflating: 20130207/12.json        \n",
            "  inflating: 20130207/13.json        \n",
            "  inflating: 20130207/14.json        \n",
            "  inflating: 20130207/15.json        \n",
            "  inflating: 20130207/16.json        \n",
            "  inflating: 20130207/17.json        \n",
            "  inflating: 20130207/18.json        \n",
            "  inflating: 20130207/19.json        \n",
            "  inflating: 20130207/20.json        \n",
            "  inflating: 20130207/21.json        \n",
            "  inflating: 20130207/22.json        \n",
            "  inflating: 20130207/23.json        \n",
            "   creating: 20130208/\n",
            "  inflating: 20130208/00.json        \n",
            "  inflating: 20130208/01.json        \n",
            "  inflating: 20130208/02.json        \n",
            "  inflating: 20130208/03.json        \n",
            "  inflating: 20130208/04.json        \n",
            "  inflating: 20130208/05.json        \n",
            "  inflating: 20130208/06.json        \n",
            "  inflating: 20130208/07.json        \n",
            "  inflating: 20130208/08.json        \n",
            "  inflating: 20130208/09.json        \n",
            "  inflating: 20130208/10.json        \n",
            "  inflating: 20130208/11.json        \n",
            "  inflating: 20130208/12.json        \n",
            "  inflating: 20130208/13.json        \n",
            "  inflating: 20130208/14.json        \n",
            "  inflating: 20130208/15.json        \n",
            "  inflating: 20130208/16.json        \n",
            "  inflating: 20130208/17.json        \n",
            "  inflating: 20130208/18.json        \n",
            "  inflating: 20130208/19.json        \n",
            "  inflating: 20130208/20.json        \n",
            "  inflating: 20130208/21.json        \n",
            "  inflating: 20130208/22.json        \n",
            "  inflating: 20130208/23.json        \n",
            "   creating: 20130209/\n",
            "  inflating: 20130209/00.json        \n",
            "  inflating: 20130209/01.json        \n",
            "  inflating: 20130209/02.json        \n",
            "  inflating: 20130209/03.json        \n",
            "  inflating: 20130209/04.json        \n",
            "  inflating: 20130209/05.json        \n",
            "  inflating: 20130209/06.json        \n",
            "  inflating: 20130209/07.json        \n",
            "  inflating: 20130209/08.json        \n",
            "  inflating: 20130209/09.json        \n",
            "  inflating: 20130209/10.json        \n",
            "  inflating: 20130209/11.json        \n",
            "  inflating: 20130209/12.json        \n",
            "  inflating: 20130209/13.json        \n",
            "  inflating: 20130209/14.json        \n",
            "  inflating: 20130209/15.json        \n",
            "  inflating: 20130209/16.json        \n",
            "  inflating: 20130209/17.json        \n",
            "  inflating: 20130209/18.json        \n",
            "  inflating: 20130209/19.json        \n",
            "  inflating: 20130209/20.json        \n",
            "  inflating: 20130209/21.json        \n",
            "  inflating: 20130209/22.json        \n",
            "  inflating: 20130209/23.json        \n",
            "   creating: 20130210/\n",
            "  inflating: 20130210/00.json        \n",
            "  inflating: 20130210/01.json        \n",
            "  inflating: 20130210/02.json        \n",
            "  inflating: 20130210/03.json        \n",
            "  inflating: 20130210/04.json        \n",
            "  inflating: 20130210/05.json        \n",
            "  inflating: 20130210/06.json        \n",
            "  inflating: 20130210/07.json        \n",
            "  inflating: 20130210/08.json        \n",
            "  inflating: 20130210/09.json        \n",
            "  inflating: 20130210/10.json        \n",
            "  inflating: 20130210/11.json        \n",
            "  inflating: 20130210/12.json        \n",
            "  inflating: 20130210/13.json        \n",
            "  inflating: 20130210/14.json        \n",
            "  inflating: 20130210/15.json        \n",
            "  inflating: 20130210/16.json        \n",
            "  inflating: 20130210/17.json        \n",
            "  inflating: 20130210/18.json        \n",
            "  inflating: 20130210/19.json        \n",
            "  inflating: 20130210/20.json        \n",
            "  inflating: 20130210/21.json        \n",
            "  inflating: 20130210/22.json        \n",
            "  inflating: 20130210/23.json        \n",
            "   creating: 20130211/\n",
            "  inflating: 20130211/00.json        \n",
            "  inflating: 20130211/01.json        \n",
            "  inflating: 20130211/02.json        \n",
            "  inflating: 20130211/03.json        \n",
            "  inflating: 20130211/04.json        \n",
            "  inflating: 20130211/05.json        \n",
            "  inflating: 20130211/06.json        \n",
            "  inflating: 20130211/07.json        \n",
            "  inflating: 20130211/08.json        \n",
            "  inflating: 20130211/09.json        \n",
            "  inflating: 20130211/10.json        \n",
            "  inflating: 20130211/11.json        \n",
            "  inflating: 20130211/12.json        \n",
            "  inflating: 20130211/13.json        \n",
            "  inflating: 20130211/14.json        \n",
            "  inflating: 20130211/15.json        \n",
            "  inflating: 20130211/16.json        \n",
            "  inflating: 20130211/17.json        \n",
            "  inflating: 20130211/18.json        \n",
            "  inflating: 20130211/19.json        \n",
            "  inflating: 20130211/20.json        \n",
            "  inflating: 20130211/21.json        \n",
            "  inflating: 20130211/22.json        \n",
            "  inflating: 20130211/23.json        \n"
          ],
          "name": "stdout"
        }
      ]
    },
    {
      "cell_type": "markdown",
      "metadata": {
        "id": "ILwMNTi4IvFj"
      },
      "source": [
        "Eliminamos el fichero .zip para no agotar el espacio disponible."
      ]
    },
    {
      "cell_type": "code",
      "metadata": {
        "id": "EHBgia22I2dk"
      },
      "source": [
        "!rm tweets.zip"
      ],
      "execution_count": null,
      "outputs": []
    },
    {
      "cell_type": "markdown",
      "metadata": {
        "id": "9KMTTJ3LI5D3"
      },
      "source": [
        "Se cargan los datos en memoria para posteriormente procesarlos. "
      ]
    },
    {
      "cell_type": "code",
      "metadata": {
        "colab": {
          "base_uri": "https://localhost:8080/"
        },
        "id": "EW9h8rcmI7i9",
        "outputId": "390f66a3-3070-4698-f2ec-7ce8751ee4a0"
      },
      "source": [
        "import os\n",
        "def cargar_tweets(directorio):\n",
        "    lista = {}\n",
        "    with os.scandir(directorio) as subdirectorios:\n",
        "        for subdirectorio in subdirectorios:\n",
        "            lista[directorio+subdirectorio.name] = os.listdir(directorio+subdirectorio.name)\n",
        "    return lista\n",
        "\n",
        "elementos_memoria = cargar_tweets(\"/content/ejercicio1/\")\n",
        "print(elementos_memoria)"
      ],
      "execution_count": null,
      "outputs": [
        {
          "output_type": "stream",
          "text": [
            "{'/content/ejercicio1/20130129': ['10.json', '06.json', '09.json', '16.json', '20.json', '00.json', '23.json', '17.json', '08.json', '19.json', '12.json', '07.json', '02.json', '13.json', '05.json', '03.json', '22.json', '14.json', '11.json', '01.json', '15.json', '04.json', '18.json', '21.json'], '/content/ejercicio1/20130211': ['10.json', '06.json', '09.json', '16.json', '20.json', '00.json', '23.json', '17.json', '08.json', '19.json', '12.json', '07.json', '02.json', '13.json', '05.json', '03.json', '22.json', '14.json', '11.json', '01.json', '15.json', '04.json', '18.json', '21.json'], '/content/ejercicio1/20130120': ['10.json', '06.json', '09.json', '16.json', '20.json', '00.json', '23.json', '17.json', '08.json', '19.json', '12.json', '07.json', '02.json', '13.json', '05.json', '03.json', '22.json', '14.json', '11.json', '01.json', '15.json', '04.json', '18.json', '21.json'], '/content/ejercicio1/20130124': ['10.json', '06.json', '09.json', '16.json', '20.json', '00.json', '23.json', '17.json', '08.json', '19.json', '12.json', '07.json', '02.json', '13.json', '05.json', '03.json', '22.json', '14.json', '11.json', '01.json', '15.json', '04.json', '18.json', '21.json'], '/content/ejercicio1/20130130': ['10.json', '06.json', '09.json', '16.json', '20.json', '00.json', '23.json', '17.json', '08.json', '19.json', '12.json', '07.json', '02.json', '13.json', '05.json', '03.json', '22.json', '14.json', '11.json', '01.json', '15.json', '04.json', '18.json', '21.json'], '/content/ejercicio1/20130125': ['10.json', '06.json', '09.json', '16.json', '20.json', '00.json', '23.json', '17.json', '08.json', '19.json', '12.json', '07.json', '02.json', '13.json', '05.json', '03.json', '22.json', '14.json', '11.json', '01.json', '15.json', '04.json', '18.json', '21.json'], '/content/ejercicio1/20130201': ['10.json', '06.json', '09.json', '16.json', '20.json', '00.json', '23.json', '17.json', '08.json', '19.json', '12.json', '07.json', '02.json', '13.json', '05.json', '03.json', '22.json', '14.json', '11.json', '01.json', '15.json', '04.json', '18.json', '21.json'], '/content/ejercicio1/20130128': ['10.json', '06.json', '09.json', '16.json', '20.json', '00.json', '23.json', '17.json', '08.json', '19.json', '12.json', '07.json', '02.json', '13.json', '05.json', '03.json', '22.json', '14.json', '11.json', '01.json', '15.json', '04.json', '18.json', '21.json'], '/content/ejercicio1/20130206': ['10.json', '06.json', '09.json', '16.json', '20.json', '00.json', '23.json', '17.json', '08.json', '19.json', '12.json', '07.json', '02.json', '13.json', '05.json', '03.json', '22.json', '14.json', '11.json', '01.json', '15.json', '04.json', '18.json', '21.json'], '/content/ejercicio1/20130210': ['10.json', '06.json', '09.json', '16.json', '20.json', '00.json', '23.json', '17.json', '08.json', '19.json', '12.json', '07.json', '02.json', '13.json', '05.json', '03.json', '22.json', '14.json', '11.json', '01.json', '15.json', '04.json', '18.json', '21.json'], '/content/ejercicio1/20130207': ['10.json', '06.json', '09.json', '16.json', '20.json', '00.json', '23.json', '17.json', '08.json', '19.json', '12.json', '07.json', '02.json', '13.json', '05.json', '03.json', '22.json', '14.json', '11.json', '01.json', '15.json', '04.json', '18.json', '21.json'], '/content/ejercicio1/20130123': ['10.json', '06.json', '09.json', '16.json', '20.json', '00.json', '23.json', '17.json', '08.json', '19.json', '12.json', '07.json', '02.json', '13.json', '05.json', '03.json', '22.json', '14.json', '11.json', '01.json', '15.json', '04.json', '18.json', '21.json'], '/content/ejercicio1/20130118': ['10.json', '06.json', '09.json', '16.json', '20.json', '00.json', '23.json', '17.json', '08.json', '19.json', '12.json', '07.json', '02.json', '13.json', '05.json', '03.json', '22.json', '14.json', '11.json', '01.json', '15.json', '04.json', '18.json', '21.json'], '/content/ejercicio1/20130117': ['10.json', '06.json', '09.json', '16.json', '20.json', '00.json', '23.json', '17.json', '08.json', '19.json', '12.json', '07.json', '02.json', '13.json', '05.json', '03.json', '22.json', '14.json', '11.json', '01.json', '15.json', '04.json', '18.json', '21.json'], '/content/ejercicio1/20130202': ['10.json', '06.json', '09.json', '16.json', '20.json', '00.json', '23.json', '17.json', '08.json', '19.json', '12.json', '07.json', '02.json', '13.json', '05.json', '03.json', '22.json', '14.json', '11.json', '01.json', '15.json', '04.json', '18.json', '21.json'], '/content/ejercicio1/20130131': ['10.json', '06.json', '09.json', '16.json', '20.json', '00.json', '23.json', '17.json', '08.json', '19.json', '12.json', '07.json', '02.json', '13.json', '05.json', '03.json', '22.json', '14.json', '11.json', '01.json', '15.json', '04.json', '18.json', '21.json'], '/content/ejercicio1/20130122': ['10.json', '06.json', '09.json', '16.json', '20.json', '00.json', '23.json', '17.json', '08.json', '19.json', '12.json', '07.json', '02.json', '13.json', '05.json', '03.json', '22.json', '14.json', '11.json', '01.json', '15.json', '04.json', '18.json', '21.json'], '/content/ejercicio1/20130121': ['10.json', '06.json', '09.json', '16.json', '20.json', '00.json', '23.json', '17.json', '08.json', '19.json', '12.json', '07.json', '02.json', '13.json', '05.json', '03.json', '22.json', '14.json', '11.json', '01.json', '15.json', '04.json', '18.json', '21.json'], '/content/ejercicio1/20130204': ['10.json', '06.json', '09.json', '16.json', '20.json', '00.json', '23.json', '17.json', '08.json', '19.json', '12.json', '07.json', '02.json', '13.json', '05.json', '03.json', '22.json', '14.json', '11.json', '01.json', '15.json', '04.json', '18.json', '21.json'], '/content/ejercicio1/20130126': ['10.json', '06.json', '09.json', '16.json', '20.json', '00.json', '23.json', '17.json', '08.json', '19.json', '12.json', '07.json', '02.json', '13.json', '05.json', '03.json', '22.json', '14.json', '11.json', '01.json', '15.json', '04.json', '18.json', '21.json'], '/content/ejercicio1/20130209': ['10.json', '06.json', '09.json', '16.json', '20.json', '00.json', '23.json', '17.json', '08.json', '19.json', '12.json', '07.json', '02.json', '13.json', '05.json', '03.json', '22.json', '14.json', '11.json', '01.json', '15.json', '04.json', '18.json', '21.json'], '/content/ejercicio1/20130203': ['10.json', '06.json', '09.json', '16.json', '20.json', '00.json', '23.json', '17.json', '08.json', '19.json', '12.json', '07.json', '02.json', '13.json', '05.json', '03.json', '22.json', '14.json', '11.json', '01.json', '15.json', '04.json', '18.json', '21.json'], '/content/ejercicio1/20130205': ['10.json', '06.json', '09.json', '16.json', '20.json', '00.json', '23.json', '17.json', '08.json', '19.json', '12.json', '07.json', '02.json', '13.json', '05.json', '03.json', '22.json', '14.json', '11.json', '01.json', '15.json', '04.json', '18.json', '21.json'], '/content/ejercicio1/20130208': ['10.json', '06.json', '09.json', '16.json', '20.json', '00.json', '23.json', '17.json', '08.json', '19.json', '12.json', '07.json', '02.json', '13.json', '05.json', '03.json', '22.json', '14.json', '11.json', '01.json', '15.json', '04.json', '18.json', '21.json'], '/content/ejercicio1/20130127': ['10.json', '06.json', '09.json', '16.json', '20.json', '00.json', '23.json', '17.json', '08.json', '19.json', '12.json', '07.json', '02.json', '13.json', '05.json', '03.json', '22.json', '14.json', '11.json', '01.json', '15.json', '04.json', '18.json', '21.json'], '/content/ejercicio1/20130119': ['10.json', '06.json', '09.json', '16.json', '20.json', '00.json', '23.json', '17.json', '08.json', '19.json', '12.json', '07.json', '02.json', '13.json', '05.json', '03.json', '22.json', '14.json', '11.json', '01.json', '15.json', '04.json', '18.json', '21.json']}\n"
          ],
          "name": "stdout"
        }
      ]
    },
    {
      "cell_type": "markdown",
      "metadata": {
        "id": "HU0pd_M9KWHm"
      },
      "source": [
        "## Limpieza de textos\n",
        "Se usará la librería ndjson https://pypi.org/project/ndjson/ para leer los archivos, además de la biblioteca io.\n",
        "Por otro lado, se usará el paquete spacy para obtener tanto los tokens como los sintagmas nominales de los tweets escritos en castellano."
      ]
    },
    {
      "cell_type": "code",
      "metadata": {
        "id": "ZK1xP-fRKW3Q",
        "colab": {
          "base_uri": "https://localhost:8080/",
          "height": 340
        },
        "outputId": "29856894-1f9d-4255-cf4f-d5b1f5b41464"
      },
      "source": [
        "import json\n",
        "import io\n",
        "import ndjson\n",
        "import spacy\n",
        "from tqdm import tqdm\n",
        "\n",
        "def limpiar_tweets(lista):\n",
        "    json_data = []\n",
        "    nlp = spacy.load(\"es_core_news_lg\")\n",
        "    for subdirectorio in lista:\n",
        "        for fichero in lista[subdirectorio]:\n",
        "          ruta = subdirectorio + \"/\" + fichero\n",
        "          get_tweets(ruta, nlp)\n",
        "        break\n",
        "\n",
        "def get_tweets(ruta, nlp):\n",
        "  english_tweets = []\n",
        "  tweets = []\n",
        "  with open(ruta) as f:\n",
        "    datos = ndjson.load(f)\n",
        "    for entrada in datos:\n",
        "      if 'lang' in entrada and entrada['lang']==\"es\" or 'lang' not in entrada and entrada['user']['lang'] == 'es':\n",
        "        hashtags = []\n",
        "        for hashtag in entrada['entities']['hashtags']:\n",
        "          hashtags.append(hashtag['text'])\n",
        "        tweet_append = {\n",
        "            \"created_at\": entrada['created_at'],\n",
        "            \"id_str\": entrada['id_str'],\n",
        "            \"text\": entrada['text'],\n",
        "            \"user\": {\n",
        "                \"screen_name\": entrada['user']['screen_name'],\n",
        "                \"description\": entrada['user']['description']\n",
        "            },\n",
        "            \"hashtags\": hashtags,\n",
        "            \"urls\": entrada['entities']['urls']\n",
        "        }\n",
        "        doc = nlp(entrada['text'])\n",
        "        noum_chunks = []\n",
        "        for chunk in doc.noun_chunks:\n",
        "          noum_chunks.append(chunk.root.text)\n",
        "        tweet_append['noum_chunks'] = noum_chunks\n",
        "        tokens = [token.lemma_.lower() for token in doc if not token.is_punct and not token.is_stop]\n",
        "        tweet_append['tokens'] = tokens\n",
        "        tweets.append(tweet_append)\n",
        "    return tweets\n",
        "\n",
        "tweets_limpios = limpiar_tweets(elementos_memoria)"
      ],
      "execution_count": null,
      "outputs": [
        {
          "output_type": "error",
          "ename": "KeyboardInterrupt",
          "evalue": "ignored",
          "traceback": [
            "\u001b[0;31m---------------------------------------------------------------------------\u001b[0m",
            "\u001b[0;31mKeyboardInterrupt\u001b[0m                         Traceback (most recent call last)",
            "\u001b[0;32m<ipython-input-7-d0a63e1ed64b>\u001b[0m in \u001b[0;36m<module>\u001b[0;34m()\u001b[0m\n\u001b[1;32m     45\u001b[0m     \u001b[0;32mreturn\u001b[0m \u001b[0mtweets\u001b[0m\u001b[0;34m\u001b[0m\u001b[0;34m\u001b[0m\u001b[0m\n\u001b[1;32m     46\u001b[0m \u001b[0;34m\u001b[0m\u001b[0m\n\u001b[0;32m---> 47\u001b[0;31m \u001b[0mtweets_limpios\u001b[0m \u001b[0;34m=\u001b[0m \u001b[0mlimpiar_tweets\u001b[0m\u001b[0;34m(\u001b[0m\u001b[0melementos_memoria\u001b[0m\u001b[0;34m)\u001b[0m\u001b[0;34m\u001b[0m\u001b[0;34m\u001b[0m\u001b[0m\n\u001b[0m",
            "\u001b[0;32m<ipython-input-7-d0a63e1ed64b>\u001b[0m in \u001b[0;36mlimpiar_tweets\u001b[0;34m(lista)\u001b[0m\n\u001b[1;32m      7\u001b[0m \u001b[0;32mdef\u001b[0m \u001b[0mlimpiar_tweets\u001b[0m\u001b[0;34m(\u001b[0m\u001b[0mlista\u001b[0m\u001b[0;34m)\u001b[0m\u001b[0;34m:\u001b[0m\u001b[0;34m\u001b[0m\u001b[0;34m\u001b[0m\u001b[0m\n\u001b[1;32m      8\u001b[0m     \u001b[0mjson_data\u001b[0m \u001b[0;34m=\u001b[0m \u001b[0;34m[\u001b[0m\u001b[0;34m]\u001b[0m\u001b[0;34m\u001b[0m\u001b[0;34m\u001b[0m\u001b[0m\n\u001b[0;32m----> 9\u001b[0;31m     \u001b[0mnlp\u001b[0m \u001b[0;34m=\u001b[0m \u001b[0mspacy\u001b[0m\u001b[0;34m.\u001b[0m\u001b[0mload\u001b[0m\u001b[0;34m(\u001b[0m\u001b[0;34m\"es_core_news_lg\"\u001b[0m\u001b[0;34m)\u001b[0m\u001b[0;34m\u001b[0m\u001b[0;34m\u001b[0m\u001b[0m\n\u001b[0m\u001b[1;32m     10\u001b[0m     \u001b[0;32mfor\u001b[0m \u001b[0msubdirectorio\u001b[0m \u001b[0;32min\u001b[0m \u001b[0mlista\u001b[0m\u001b[0;34m:\u001b[0m\u001b[0;34m\u001b[0m\u001b[0;34m\u001b[0m\u001b[0m\n\u001b[1;32m     11\u001b[0m         \u001b[0;32mfor\u001b[0m \u001b[0mfichero\u001b[0m \u001b[0;32min\u001b[0m \u001b[0mlista\u001b[0m\u001b[0;34m[\u001b[0m\u001b[0msubdirectorio\u001b[0m\u001b[0;34m]\u001b[0m\u001b[0;34m:\u001b[0m\u001b[0;34m\u001b[0m\u001b[0;34m\u001b[0m\u001b[0m\n",
            "\u001b[0;32m/usr/local/lib/python3.7/dist-packages/spacy/__init__.py\u001b[0m in \u001b[0;36mload\u001b[0;34m(name, disable, exclude, config)\u001b[0m\n\u001b[1;32m     45\u001b[0m     \u001b[0mRETURNS\u001b[0m \u001b[0;34m(\u001b[0m\u001b[0mLanguage\u001b[0m\u001b[0;34m)\u001b[0m\u001b[0;34m:\u001b[0m \u001b[0mThe\u001b[0m \u001b[0mloaded\u001b[0m \u001b[0mnlp\u001b[0m \u001b[0mobject\u001b[0m\u001b[0;34m.\u001b[0m\u001b[0;34m\u001b[0m\u001b[0;34m\u001b[0m\u001b[0m\n\u001b[1;32m     46\u001b[0m     \"\"\"\n\u001b[0;32m---> 47\u001b[0;31m     \u001b[0;32mreturn\u001b[0m \u001b[0mutil\u001b[0m\u001b[0;34m.\u001b[0m\u001b[0mload_model\u001b[0m\u001b[0;34m(\u001b[0m\u001b[0mname\u001b[0m\u001b[0;34m,\u001b[0m \u001b[0mdisable\u001b[0m\u001b[0;34m=\u001b[0m\u001b[0mdisable\u001b[0m\u001b[0;34m,\u001b[0m \u001b[0mexclude\u001b[0m\u001b[0;34m=\u001b[0m\u001b[0mexclude\u001b[0m\u001b[0;34m,\u001b[0m \u001b[0mconfig\u001b[0m\u001b[0;34m=\u001b[0m\u001b[0mconfig\u001b[0m\u001b[0;34m)\u001b[0m\u001b[0;34m\u001b[0m\u001b[0;34m\u001b[0m\u001b[0m\n\u001b[0m\u001b[1;32m     48\u001b[0m \u001b[0;34m\u001b[0m\u001b[0m\n\u001b[1;32m     49\u001b[0m \u001b[0;34m\u001b[0m\u001b[0m\n",
            "\u001b[0;32m/usr/local/lib/python3.7/dist-packages/spacy/util.py\u001b[0m in \u001b[0;36mload_model\u001b[0;34m(name, vocab, disable, exclude, config)\u001b[0m\n\u001b[1;32m    320\u001b[0m             \u001b[0;32mreturn\u001b[0m \u001b[0mget_lang_class\u001b[0m\u001b[0;34m(\u001b[0m\u001b[0mname\u001b[0m\u001b[0;34m.\u001b[0m\u001b[0mreplace\u001b[0m\u001b[0;34m(\u001b[0m\u001b[0;34m\"blank:\"\u001b[0m\u001b[0;34m,\u001b[0m \u001b[0;34m\"\"\u001b[0m\u001b[0;34m)\u001b[0m\u001b[0;34m)\u001b[0m\u001b[0;34m(\u001b[0m\u001b[0;34m)\u001b[0m\u001b[0;34m\u001b[0m\u001b[0;34m\u001b[0m\u001b[0m\n\u001b[1;32m    321\u001b[0m         \u001b[0;32mif\u001b[0m \u001b[0mis_package\u001b[0m\u001b[0;34m(\u001b[0m\u001b[0mname\u001b[0m\u001b[0;34m)\u001b[0m\u001b[0;34m:\u001b[0m  \u001b[0;31m# installed as package\u001b[0m\u001b[0;34m\u001b[0m\u001b[0;34m\u001b[0m\u001b[0m\n\u001b[0;32m--> 322\u001b[0;31m             \u001b[0;32mreturn\u001b[0m \u001b[0mload_model_from_package\u001b[0m\u001b[0;34m(\u001b[0m\u001b[0mname\u001b[0m\u001b[0;34m,\u001b[0m \u001b[0;34m**\u001b[0m\u001b[0mkwargs\u001b[0m\u001b[0;34m)\u001b[0m\u001b[0;34m\u001b[0m\u001b[0;34m\u001b[0m\u001b[0m\n\u001b[0m\u001b[1;32m    323\u001b[0m         \u001b[0;32mif\u001b[0m \u001b[0mPath\u001b[0m\u001b[0;34m(\u001b[0m\u001b[0mname\u001b[0m\u001b[0;34m)\u001b[0m\u001b[0;34m.\u001b[0m\u001b[0mexists\u001b[0m\u001b[0;34m(\u001b[0m\u001b[0;34m)\u001b[0m\u001b[0;34m:\u001b[0m  \u001b[0;31m# path to model data directory\u001b[0m\u001b[0;34m\u001b[0m\u001b[0;34m\u001b[0m\u001b[0m\n\u001b[1;32m    324\u001b[0m             \u001b[0;32mreturn\u001b[0m \u001b[0mload_model_from_path\u001b[0m\u001b[0;34m(\u001b[0m\u001b[0mPath\u001b[0m\u001b[0;34m(\u001b[0m\u001b[0mname\u001b[0m\u001b[0;34m)\u001b[0m\u001b[0;34m,\u001b[0m \u001b[0;34m**\u001b[0m\u001b[0mkwargs\u001b[0m\u001b[0;34m)\u001b[0m\u001b[0;34m\u001b[0m\u001b[0;34m\u001b[0m\u001b[0m\n",
            "\u001b[0;32m/usr/local/lib/python3.7/dist-packages/spacy/util.py\u001b[0m in \u001b[0;36mload_model_from_package\u001b[0;34m(name, vocab, disable, exclude, config)\u001b[0m\n\u001b[1;32m    353\u001b[0m     \"\"\"\n\u001b[1;32m    354\u001b[0m     \u001b[0mcls\u001b[0m \u001b[0;34m=\u001b[0m \u001b[0mimportlib\u001b[0m\u001b[0;34m.\u001b[0m\u001b[0mimport_module\u001b[0m\u001b[0;34m(\u001b[0m\u001b[0mname\u001b[0m\u001b[0;34m)\u001b[0m\u001b[0;34m\u001b[0m\u001b[0;34m\u001b[0m\u001b[0m\n\u001b[0;32m--> 355\u001b[0;31m     \u001b[0;32mreturn\u001b[0m \u001b[0mcls\u001b[0m\u001b[0;34m.\u001b[0m\u001b[0mload\u001b[0m\u001b[0;34m(\u001b[0m\u001b[0mvocab\u001b[0m\u001b[0;34m=\u001b[0m\u001b[0mvocab\u001b[0m\u001b[0;34m,\u001b[0m \u001b[0mdisable\u001b[0m\u001b[0;34m=\u001b[0m\u001b[0mdisable\u001b[0m\u001b[0;34m,\u001b[0m \u001b[0mexclude\u001b[0m\u001b[0;34m=\u001b[0m\u001b[0mexclude\u001b[0m\u001b[0;34m,\u001b[0m \u001b[0mconfig\u001b[0m\u001b[0;34m=\u001b[0m\u001b[0mconfig\u001b[0m\u001b[0;34m)\u001b[0m\u001b[0;34m\u001b[0m\u001b[0;34m\u001b[0m\u001b[0m\n\u001b[0m\u001b[1;32m    356\u001b[0m \u001b[0;34m\u001b[0m\u001b[0m\n\u001b[1;32m    357\u001b[0m \u001b[0;34m\u001b[0m\u001b[0m\n",
            "\u001b[0;32m/usr/local/lib/python3.7/dist-packages/es_core_news_lg/__init__.py\u001b[0m in \u001b[0;36mload\u001b[0;34m(**overrides)\u001b[0m\n\u001b[1;32m      8\u001b[0m \u001b[0;34m\u001b[0m\u001b[0m\n\u001b[1;32m      9\u001b[0m \u001b[0;32mdef\u001b[0m \u001b[0mload\u001b[0m\u001b[0;34m(\u001b[0m\u001b[0;34m**\u001b[0m\u001b[0moverrides\u001b[0m\u001b[0;34m)\u001b[0m\u001b[0;34m:\u001b[0m\u001b[0;34m\u001b[0m\u001b[0;34m\u001b[0m\u001b[0m\n\u001b[0;32m---> 10\u001b[0;31m     \u001b[0;32mreturn\u001b[0m \u001b[0mload_model_from_init_py\u001b[0m\u001b[0;34m(\u001b[0m\u001b[0m__file__\u001b[0m\u001b[0;34m,\u001b[0m \u001b[0;34m**\u001b[0m\u001b[0moverrides\u001b[0m\u001b[0;34m)\u001b[0m\u001b[0;34m\u001b[0m\u001b[0;34m\u001b[0m\u001b[0m\n\u001b[0m",
            "\u001b[0;32m/usr/local/lib/python3.7/dist-packages/spacy/util.py\u001b[0m in \u001b[0;36mload_model_from_init_py\u001b[0;34m(init_file, vocab, disable, exclude, config)\u001b[0m\n\u001b[1;32m    518\u001b[0m         \u001b[0mdisable\u001b[0m\u001b[0;34m=\u001b[0m\u001b[0mdisable\u001b[0m\u001b[0;34m,\u001b[0m\u001b[0;34m\u001b[0m\u001b[0;34m\u001b[0m\u001b[0m\n\u001b[1;32m    519\u001b[0m         \u001b[0mexclude\u001b[0m\u001b[0;34m=\u001b[0m\u001b[0mexclude\u001b[0m\u001b[0;34m,\u001b[0m\u001b[0;34m\u001b[0m\u001b[0;34m\u001b[0m\u001b[0m\n\u001b[0;32m--> 520\u001b[0;31m         \u001b[0mconfig\u001b[0m\u001b[0;34m=\u001b[0m\u001b[0mconfig\u001b[0m\u001b[0;34m,\u001b[0m\u001b[0;34m\u001b[0m\u001b[0;34m\u001b[0m\u001b[0m\n\u001b[0m\u001b[1;32m    521\u001b[0m     )\n\u001b[1;32m    522\u001b[0m \u001b[0;34m\u001b[0m\u001b[0m\n",
            "\u001b[0;32m/usr/local/lib/python3.7/dist-packages/spacy/util.py\u001b[0m in \u001b[0;36mload_model_from_path\u001b[0;34m(model_path, meta, vocab, disable, exclude, config)\u001b[0m\n\u001b[1;32m    388\u001b[0m     \u001b[0mconfig\u001b[0m \u001b[0;34m=\u001b[0m \u001b[0mload_config\u001b[0m\u001b[0;34m(\u001b[0m\u001b[0mconfig_path\u001b[0m\u001b[0;34m,\u001b[0m \u001b[0moverrides\u001b[0m\u001b[0;34m=\u001b[0m\u001b[0mdict_to_dot\u001b[0m\u001b[0;34m(\u001b[0m\u001b[0mconfig\u001b[0m\u001b[0;34m)\u001b[0m\u001b[0;34m)\u001b[0m\u001b[0;34m\u001b[0m\u001b[0;34m\u001b[0m\u001b[0m\n\u001b[1;32m    389\u001b[0m     \u001b[0mnlp\u001b[0m \u001b[0;34m=\u001b[0m \u001b[0mload_model_from_config\u001b[0m\u001b[0;34m(\u001b[0m\u001b[0mconfig\u001b[0m\u001b[0;34m,\u001b[0m \u001b[0mvocab\u001b[0m\u001b[0;34m=\u001b[0m\u001b[0mvocab\u001b[0m\u001b[0;34m,\u001b[0m \u001b[0mdisable\u001b[0m\u001b[0;34m=\u001b[0m\u001b[0mdisable\u001b[0m\u001b[0;34m,\u001b[0m \u001b[0mexclude\u001b[0m\u001b[0;34m=\u001b[0m\u001b[0mexclude\u001b[0m\u001b[0;34m)\u001b[0m\u001b[0;34m\u001b[0m\u001b[0;34m\u001b[0m\u001b[0m\n\u001b[0;32m--> 390\u001b[0;31m     \u001b[0;32mreturn\u001b[0m \u001b[0mnlp\u001b[0m\u001b[0;34m.\u001b[0m\u001b[0mfrom_disk\u001b[0m\u001b[0;34m(\u001b[0m\u001b[0mmodel_path\u001b[0m\u001b[0;34m,\u001b[0m \u001b[0mexclude\u001b[0m\u001b[0;34m=\u001b[0m\u001b[0mexclude\u001b[0m\u001b[0;34m)\u001b[0m\u001b[0;34m\u001b[0m\u001b[0;34m\u001b[0m\u001b[0m\n\u001b[0m\u001b[1;32m    391\u001b[0m \u001b[0;34m\u001b[0m\u001b[0m\n\u001b[1;32m    392\u001b[0m \u001b[0;34m\u001b[0m\u001b[0m\n",
            "\u001b[0;32m/usr/local/lib/python3.7/dist-packages/spacy/language.py\u001b[0m in \u001b[0;36mfrom_disk\u001b[0;34m(self, path, exclude)\u001b[0m\n\u001b[1;32m   1861\u001b[0m             \u001b[0;31m# Convert to list here in case exclude is (default) tuple\u001b[0m\u001b[0;34m\u001b[0m\u001b[0;34m\u001b[0m\u001b[0;34m\u001b[0m\u001b[0m\n\u001b[1;32m   1862\u001b[0m             \u001b[0mexclude\u001b[0m \u001b[0;34m=\u001b[0m \u001b[0mlist\u001b[0m\u001b[0;34m(\u001b[0m\u001b[0mexclude\u001b[0m\u001b[0;34m)\u001b[0m \u001b[0;34m+\u001b[0m \u001b[0;34m[\u001b[0m\u001b[0;34m\"vocab\"\u001b[0m\u001b[0;34m]\u001b[0m\u001b[0;34m\u001b[0m\u001b[0;34m\u001b[0m\u001b[0m\n\u001b[0;32m-> 1863\u001b[0;31m         \u001b[0mutil\u001b[0m\u001b[0;34m.\u001b[0m\u001b[0mfrom_disk\u001b[0m\u001b[0;34m(\u001b[0m\u001b[0mpath\u001b[0m\u001b[0;34m,\u001b[0m \u001b[0mdeserializers\u001b[0m\u001b[0;34m,\u001b[0m \u001b[0mexclude\u001b[0m\u001b[0;34m)\u001b[0m\u001b[0;34m\u001b[0m\u001b[0;34m\u001b[0m\u001b[0m\n\u001b[0m\u001b[1;32m   1864\u001b[0m         \u001b[0mself\u001b[0m\u001b[0;34m.\u001b[0m\u001b[0m_path\u001b[0m \u001b[0;34m=\u001b[0m \u001b[0mpath\u001b[0m\u001b[0;34m\u001b[0m\u001b[0;34m\u001b[0m\u001b[0m\n\u001b[1;32m   1865\u001b[0m         \u001b[0mself\u001b[0m\u001b[0;34m.\u001b[0m\u001b[0m_link_components\u001b[0m\u001b[0;34m(\u001b[0m\u001b[0;34m)\u001b[0m\u001b[0;34m\u001b[0m\u001b[0;34m\u001b[0m\u001b[0m\n",
            "\u001b[0;32m/usr/local/lib/python3.7/dist-packages/spacy/util.py\u001b[0m in \u001b[0;36mfrom_disk\u001b[0;34m(path, readers, exclude)\u001b[0m\n\u001b[1;32m   1172\u001b[0m         \u001b[0;31m# Split to support file names like meta.json\u001b[0m\u001b[0;34m\u001b[0m\u001b[0;34m\u001b[0m\u001b[0;34m\u001b[0m\u001b[0m\n\u001b[1;32m   1173\u001b[0m         \u001b[0;32mif\u001b[0m \u001b[0mkey\u001b[0m\u001b[0;34m.\u001b[0m\u001b[0msplit\u001b[0m\u001b[0;34m(\u001b[0m\u001b[0;34m\".\"\u001b[0m\u001b[0;34m)\u001b[0m\u001b[0;34m[\u001b[0m\u001b[0;36m0\u001b[0m\u001b[0;34m]\u001b[0m \u001b[0;32mnot\u001b[0m \u001b[0;32min\u001b[0m \u001b[0mexclude\u001b[0m\u001b[0;34m:\u001b[0m\u001b[0;34m\u001b[0m\u001b[0;34m\u001b[0m\u001b[0m\n\u001b[0;32m-> 1174\u001b[0;31m             \u001b[0mreader\u001b[0m\u001b[0;34m(\u001b[0m\u001b[0mpath\u001b[0m \u001b[0;34m/\u001b[0m \u001b[0mkey\u001b[0m\u001b[0;34m)\u001b[0m\u001b[0;34m\u001b[0m\u001b[0;34m\u001b[0m\u001b[0m\n\u001b[0m\u001b[1;32m   1175\u001b[0m     \u001b[0;32mreturn\u001b[0m \u001b[0mpath\u001b[0m\u001b[0;34m\u001b[0m\u001b[0;34m\u001b[0m\u001b[0m\n\u001b[1;32m   1176\u001b[0m \u001b[0;34m\u001b[0m\u001b[0m\n",
            "\u001b[0;32m/usr/local/lib/python3.7/dist-packages/spacy/language.py\u001b[0m in \u001b[0;36mdeserialize_vocab\u001b[0;34m(path)\u001b[0m\n\u001b[1;32m   1837\u001b[0m         \u001b[0;32mdef\u001b[0m \u001b[0mdeserialize_vocab\u001b[0m\u001b[0;34m(\u001b[0m\u001b[0mpath\u001b[0m\u001b[0;34m:\u001b[0m \u001b[0mPath\u001b[0m\u001b[0;34m)\u001b[0m \u001b[0;34m->\u001b[0m \u001b[0;32mNone\u001b[0m\u001b[0;34m:\u001b[0m\u001b[0;34m\u001b[0m\u001b[0;34m\u001b[0m\u001b[0m\n\u001b[1;32m   1838\u001b[0m             \u001b[0;32mif\u001b[0m \u001b[0mpath\u001b[0m\u001b[0;34m.\u001b[0m\u001b[0mexists\u001b[0m\u001b[0;34m(\u001b[0m\u001b[0;34m)\u001b[0m\u001b[0;34m:\u001b[0m\u001b[0;34m\u001b[0m\u001b[0;34m\u001b[0m\u001b[0m\n\u001b[0;32m-> 1839\u001b[0;31m                 \u001b[0mself\u001b[0m\u001b[0;34m.\u001b[0m\u001b[0mvocab\u001b[0m\u001b[0;34m.\u001b[0m\u001b[0mfrom_disk\u001b[0m\u001b[0;34m(\u001b[0m\u001b[0mpath\u001b[0m\u001b[0;34m)\u001b[0m\u001b[0;34m\u001b[0m\u001b[0;34m\u001b[0m\u001b[0m\n\u001b[0m\u001b[1;32m   1840\u001b[0m \u001b[0;34m\u001b[0m\u001b[0m\n\u001b[1;32m   1841\u001b[0m         \u001b[0mpath\u001b[0m \u001b[0;34m=\u001b[0m \u001b[0mutil\u001b[0m\u001b[0;34m.\u001b[0m\u001b[0mensure_path\u001b[0m\u001b[0;34m(\u001b[0m\u001b[0mpath\u001b[0m\u001b[0;34m)\u001b[0m\u001b[0;34m\u001b[0m\u001b[0;34m\u001b[0m\u001b[0m\n",
            "\u001b[0;32m/usr/local/lib/python3.7/dist-packages/spacy/vocab.pyx\u001b[0m in \u001b[0;36mspacy.vocab.Vocab.from_disk\u001b[0;34m()\u001b[0m\n",
            "\u001b[0;32m/usr/local/lib/python3.7/dist-packages/spacy/vectors.pyx\u001b[0m in \u001b[0;36mspacy.vectors.Vectors.from_disk\u001b[0;34m()\u001b[0m\n",
            "\u001b[0;32m/usr/local/lib/python3.7/dist-packages/spacy/util.py\u001b[0m in \u001b[0;36mfrom_disk\u001b[0;34m(path, readers, exclude)\u001b[0m\n\u001b[1;32m   1163\u001b[0m \u001b[0;34m\u001b[0m\u001b[0m\n\u001b[1;32m   1164\u001b[0m \u001b[0;34m\u001b[0m\u001b[0m\n\u001b[0;32m-> 1165\u001b[0;31m def from_disk(\n\u001b[0m\u001b[1;32m   1166\u001b[0m     \u001b[0mpath\u001b[0m\u001b[0;34m:\u001b[0m \u001b[0mUnion\u001b[0m\u001b[0;34m[\u001b[0m\u001b[0mstr\u001b[0m\u001b[0;34m,\u001b[0m \u001b[0mPath\u001b[0m\u001b[0;34m]\u001b[0m\u001b[0;34m,\u001b[0m\u001b[0;34m\u001b[0m\u001b[0;34m\u001b[0m\u001b[0m\n\u001b[1;32m   1167\u001b[0m     \u001b[0mreaders\u001b[0m\u001b[0;34m:\u001b[0m \u001b[0mDict\u001b[0m\u001b[0;34m[\u001b[0m\u001b[0mstr\u001b[0m\u001b[0;34m,\u001b[0m \u001b[0mCallable\u001b[0m\u001b[0;34m[\u001b[0m\u001b[0;34m[\u001b[0m\u001b[0mPath\u001b[0m\u001b[0;34m]\u001b[0m\u001b[0;34m,\u001b[0m \u001b[0;32mNone\u001b[0m\u001b[0;34m]\u001b[0m\u001b[0;34m]\u001b[0m\u001b[0;34m,\u001b[0m\u001b[0;34m\u001b[0m\u001b[0;34m\u001b[0m\u001b[0m\n",
            "\u001b[0;31mKeyboardInterrupt\u001b[0m: "
          ]
        }
      ]
    }
  ]
}